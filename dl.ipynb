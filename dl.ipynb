{
 "cells": [
  {
   "cell_type": "code",
   "execution_count": 8,
   "metadata": {},
   "outputs": [],
   "source": [
    "import requests"
   ]
  },
  {
   "cell_type": "code",
   "execution_count": 9,
   "metadata": {},
   "outputs": [],
   "source": [
    "import subprocess, logging, json\n",
    "logging.basicConfig(level=logging.INFO, format='%(asctime)s - %(message)s')"
   ]
  },
  {
   "cell_type": "code",
   "execution_count": 10,
   "metadata": {},
   "outputs": [],
   "source": [
    "from IPython.display import HTML, display"
   ]
  },
  {
   "cell_type": "code",
   "execution_count": 11,
   "metadata": {},
   "outputs": [],
   "source": [
    "def main(url):\n",
    "    request_output_file = 'input.jpg'\n",
    "    with open(request_output_file, 'wb') as f:\n",
    "        logging.info('request image file: %s', url)\n",
    "        resp = requests.get(url, stream=True)\n",
    "\n",
    "        if resp.status_code != 200:\n",
    "            logging.info('url invalid, status code: %s', resp.status_code)\n",
    "            return\n",
    "\n",
    "        logging.info('write image file, %s', request_output_file)\n",
    "        f.write(resp.content)\n",
    "\n",
    "    detect_output_file = 'output.jpg'\n",
    "    command = [\n",
    "        '/tmp/devel/libfacedetection/build/fdt_demo', \n",
    "        request_output_file, \n",
    "        detect_output_file,\n",
    "    ]\n",
    "    \n",
    "    output = subprocess.check_output(command)\n",
    "    logging.info('face detection output: %s', output)\n",
    "    return request_output_file, detect_output_file, output"
   ]
  },
  {
   "cell_type": "code",
   "execution_count": 14,
   "metadata": {},
   "outputs": [
    {
     "name": "stderr",
     "output_type": "stream",
     "text": [
      "2019-04-02 14:21:12,770 - request image file: https://timgsa.baidu.com/timg?image&quality=80&size=b9999_10000&sec=1554790919&di=d02ad776b5b0c049c63e151e81f3cde3&imgtype=jpg&er=1&src=http%3A%2F%2Fphotocdn.sohu.com%2F20150119%2FImg407889991.jpg\n",
      "2019-04-02 14:21:13,280 - write image file, input.jpg\n",
      "2019-04-02 14:21:14,436 - face detection output: b'{\"count\": 2, \\n\"faces\": [\\n{\"position\": [349, 47, 114, 114], \"confidence\": 99, \"angle\": 0}\\n{\"position\": [99, 54, 121, 121], \"confidence\": 99, \"angle\": 0}\\n]}'\n"
     ]
    },
    {
     "data": {
      "text/html": [
       "<table><tr><td><img src='input.jpg'></td><td><img src='output.jpg'></td></tr></table>"
      ],
      "text/plain": [
       "<IPython.core.display.HTML object>"
      ]
     },
     "metadata": {},
     "output_type": "display_data"
    }
   ],
   "source": [
    "url = 'https://timgsa.baidu.com/timg?image&quality=80&size=b9999_10000&sec=1554790919&di=d02ad776b5b0c049c63e151e81f3cde3&imgtype=jpg&er=1&src=http%3A%2F%2Fphotocdn.sohu.com%2F20150119%2FImg407889991.jpg'\n",
    "src, dst, result = main(url)\n",
    "display(HTML(f\"<table><tr><td><img src='{src}'></td><td><img src='{dst}'></td></tr></table>\"))"
   ]
  },
  {
   "cell_type": "code",
   "execution_count": null,
   "metadata": {},
   "outputs": [],
   "source": []
  }
 ],
 "metadata": {
  "kernelspec": {
   "display_name": "Python 3",
   "language": "python",
   "name": "python3"
  },
  "language_info": {
   "codemirror_mode": {
    "name": "ipython",
    "version": 3
   },
   "file_extension": ".py",
   "mimetype": "text/x-python",
   "name": "python",
   "nbconvert_exporter": "python",
   "pygments_lexer": "ipython3",
   "version": "3.7.3"
  }
 },
 "nbformat": 4,
 "nbformat_minor": 2
}
